{
 "cells": [
  {
   "cell_type": "code",
   "execution_count": 1,
   "id": "053309c2-cb6d-4623-83b7-7b0d947998e6",
   "metadata": {},
   "outputs": [
    {
     "name": "stderr",
     "output_type": "stream",
     "text": [
      "/opt/anaconda3/lib/python3.12/site-packages/tqdm/auto.py:21: TqdmWarning: IProgress not found. Please update jupyter and ipywidgets. See https://ipywidgets.readthedocs.io/en/stable/user_install.html\n",
      "  from .autonotebook import tqdm as notebook_tqdm\n"
     ]
    }
   ],
   "source": [
    "import torch\n",
    "import numpy as np\n",
    "import pytorch_lightning as pl\n",
    "import torchvision.transforms as tf\n",
    "from tqdm import tqdm\n",
    "from predict import *\n",
    "from HIST2ST import *\n",
    "from dataset import ViT_HER2ST, ViT_SKIN\n",
    "from scipy.stats import pearsonr,spearmanr\n",
    "from torch.utils.data import DataLoader\n",
    "from pytorch_lightning.loggers import TensorBoardLogger\n",
    "from copy import deepcopy as dcp\n",
    "from collections import defaultdict as dfd\n",
    "from sklearn.metrics import adjusted_rand_score as ari_score\n",
    "from sklearn.metrics.cluster import normalized_mutual_info_score as nmi_score"
   ]
  },
  {
   "cell_type": "markdown",
   "id": "b132bfb4-bd29-44fa-bbca-3790b0848fd4",
   "metadata": {},
   "source": [
    "# Data Loading"
   ]
  },
  {
   "cell_type": "code",
   "execution_count": 2,
   "id": "6281d8f2-e5f7-4c26-88bf-5256197b1418",
   "metadata": {
    "tags": []
   },
   "outputs": [],
   "source": [
    "name=[*[f'A{i}' for i in range(2,7)],*[f'B{i}' for i in range(1,7)],\n",
    "      *[f'C{i}' for i in range(1,7)],*[f'D{i}' for i in range(1,7)],\n",
    "      *[f'E{i}' for i in range(1,4)],*[f'F{i}' for i in range(1,4)],*[f'G{i}' for i in range(1,4)]]\n",
    "patients = ['P2', 'P5', 'P9', 'P10']\n",
    "reps = ['rep1', 'rep2', 'rep3']\n",
    "skinname = []\n",
    "for i in patients:\n",
    "    for j in reps:\n",
    "        skinname.append(i+'_ST_'+j)\n",
    "device='cuda'\n",
    "tag='5-7-2-8-4-16-32'\n",
    "k,p,d1,d2,d3,h,c=map(lambda x:int(x),tag.split('-'))\n",
    "dropout=0.2\n",
    "random.seed(12000)\n",
    "np.random.seed(12000)\n",
    "torch.manual_seed(12000)\n",
    "torch.cuda.manual_seed(12000)\n",
    "torch.cuda.manual_seed_all(12000)  \n",
    "torch.backends.cudnn.benchmark = False\n",
    "torch.backends.cudnn.deterministic = True"
   ]
  },
  {
   "cell_type": "markdown",
   "metadata": {
    "collapsed": false
   },
   "source": [
    "\n",
    "# Hist2ST Prediction\n",
    "\n",
    "### To run the trained model, please select the trained model and replace the value of the variable fold with the number in the name of the selected trained model."
   ]
  },
  {
   "cell_type": "code",
   "execution_count": 3,
   "id": "0f19d5d8-6510-493b-9287-ba7215155dc1",
   "metadata": {},
   "outputs": [],
   "source": [
    "fold=0\n",
    "data='her2st'\n",
    "prune='Grid' if data=='her2st' else 'NA'\n",
    "genes=785\n",
    "# genes=171 if data=='cscc' else 785"
   ]
  },
  {
   "cell_type": "code",
   "execution_count": 9,
   "id": "76cfcfb9-3169-46da-9288-2e2be7942d84",
   "metadata": {},
   "outputs": [
    {
     "name": "stdout",
     "output_type": "stream",
     "text": [
      "['ME']\n",
      "Loading imgs...\n",
      "Loading metadata...\n"
     ]
    },
    {
     "ename": "KeyError",
     "evalue": "\"['PRXL2B', 'SLC66A1', 'MICOS10', 'P3R3URF', 'TMEM275', 'CZIB', 'CCN1', 'DIPK1A', 'TLCD4', 'TAFA3', 'AL162596.1', 'EEF1AKNMT', 'NIBAN1', 'RO60', 'PACC1', 'SLC66A3', 'LRATD1', 'FAM166C', 'PCARE', 'ECRG4', 'SEPTIN10', 'MTLN', 'ITPRID2', 'FLACC1', 'SPEGNB', 'MAB21L4', 'SEPTIN2', 'FAM240C', 'GASK1A', 'PRSS45P', 'TASOR', 'TAFA1', 'TAFA4', 'TEX55', 'SLC49A4', 'PRR20G', 'DIPK2A', 'STRIT1', 'SLC66A1L', 'AC072022.2', 'PLAAT1', 'NCBP2AS2', 'TMEM271', 'SEPTIN11', 'GASK1B', 'ATPSCKMT', 'AC106774.4', 'TAF11L4', 'TAF11L6', 'TAF11L8', 'TAF11L11', 'TAF11L12', 'TAF11L13', 'TAF11L14', 'CERT1', 'MINAR2', 'SEPTIN8', 'INSYN2B', 'GMCL2', 'AC113348.1', 'SNHG32', 'TSBP1', 'ILRUN', 'BNIP5', 'MMUT', 'AL135905.2', 'DOP1A', 'MTRES1', 'CCN6', 'CCN2', 'RAMACL', 'CRPPA', 'NUP42', 'ITPRID1', 'SEPTIN7', 'YAE1', 'CCDC201', 'CDC14C', 'SEPTIN14', 'DENND11', 'AC073111.4', 'AC134684.8', 'RBIS', 'CCN3', 'LRATD2', 'CCN4', 'DOCK8-AS1', 'PRXL2C', 'SHOC1', 'NIBAN2', 'DIPK1B', 'AKR1C8P', 'TASOR2', 'MIR1915HG', 'AC067752.1', 'PRXL2A', 'DENND10', 'AL603764.2', 'INSYN2A', 'AC132217.2', 'OR51C1P', 'TRIM51GP', 'CBLIF', 'OOSP3', 'OOSP1', 'OOSP4A', 'OOSP4B', 'PLAAT5', 'PLAAT4', 'PLAAT2', 'PLAAT3', 'ZNRD2', 'SMIM38', 'LTO1', 'AP002495.1', 'POGLUT3', 'TLCD5', 'RESF1', 'C12orf81', 'SMIM41', 'TAFA2', 'AL445238.1', 'OBI1', 'POGLUT2', 'PRORP', 'DMAC2L', 'COA8', 'LINC02694', 'CIAO2A', 'INSYN1', 'MINAR1', 'AC015871.1', 'RAMAC', 'ANTKMT', 'CIAO3', 'SEPTIN12', 'LITAFD', 'MRTFB', 'BMERB1', 'TLCD3B', 'SEPTIN1', 'CIAO2B', 'DERPC', 'FCSK', 'MTSS2', 'MEAK7', 'TLCD3A', 'LINC02693', 'CCDC200', 'ANKRD40CL', 'SEPTIN4', 'SEPTIN9', 'HEXD', 'RELCH', 'DIPK1C', 'SLC66A2', 'FAM174C', 'PWWP3A', 'TLE5', 'MICOS13', 'SHFL', 'GET3', 'NIBAN3', 'ZNF875', 'ERFL', 'CCN5', 'DOP1B', 'GET1', 'CFAP410', 'SEPTIN5', 'AP000552.4', 'MRTFA', 'SEPTIN3', 'TAFA5', 'AL121578.2', 'DIPK2B', 'EZHIP', 'PWWP3B', 'RADX', 'SEPTIN6', 'AC236972.4', 'PRKY', 'AC007244.1'] not in index\"",
     "output_type": "error",
     "traceback": [
      "\u001b[0;31m---------------------------------------------------------------------------\u001b[0m",
      "\u001b[0;31mKeyError\u001b[0m                                  Traceback (most recent call last)",
      "Cell \u001b[0;32mIn[9], line 1\u001b[0m\n\u001b[0;32m----> 1\u001b[0m testset \u001b[38;5;241m=\u001b[39m pk_load(fold,\u001b[38;5;124m'\u001b[39m\u001b[38;5;124mtest\u001b[39m\u001b[38;5;124m'\u001b[39m,dataset\u001b[38;5;241m=\u001b[39mdata,flatten\u001b[38;5;241m=\u001b[39m\u001b[38;5;28;01mFalse\u001b[39;00m,adj\u001b[38;5;241m=\u001b[39m\u001b[38;5;28;01mTrue\u001b[39;00m,ori\u001b[38;5;241m=\u001b[39m\u001b[38;5;28;01mTrue\u001b[39;00m,prune\u001b[38;5;241m=\u001b[39mprune)\n\u001b[1;32m      2\u001b[0m test_loader \u001b[38;5;241m=\u001b[39m DataLoader(testset, batch_size\u001b[38;5;241m=\u001b[39m\u001b[38;5;241m1\u001b[39m, num_workers\u001b[38;5;241m=\u001b[39m\u001b[38;5;241m0\u001b[39m, shuffle\u001b[38;5;241m=\u001b[39m\u001b[38;5;28;01mFalse\u001b[39;00m)\n\u001b[1;32m      3\u001b[0m label\u001b[38;5;241m=\u001b[39mtestset\u001b[38;5;241m.\u001b[39mlabel[testset\u001b[38;5;241m.\u001b[39mnames[\u001b[38;5;241m0\u001b[39m]]\n",
      "File \u001b[0;32m~/Desktop/PeterMac/Hist2ST/predict.py:14\u001b[0m, in \u001b[0;36mpk_load\u001b[0;34m(fold, mode, flatten, dataset, r, ori, adj, prune, neighs)\u001b[0m\n\u001b[1;32m     12\u001b[0m \u001b[38;5;28;01massert\u001b[39;00m dataset \u001b[38;5;129;01min\u001b[39;00m [\u001b[38;5;124m'\u001b[39m\u001b[38;5;124mher2st\u001b[39m\u001b[38;5;124m'\u001b[39m,\u001b[38;5;124m'\u001b[39m\u001b[38;5;124mcscc\u001b[39m\u001b[38;5;124m'\u001b[39m]\n\u001b[1;32m     13\u001b[0m \u001b[38;5;28;01mif\u001b[39;00m dataset\u001b[38;5;241m==\u001b[39m\u001b[38;5;124m'\u001b[39m\u001b[38;5;124mher2st\u001b[39m\u001b[38;5;124m'\u001b[39m:\n\u001b[0;32m---> 14\u001b[0m     dataset \u001b[38;5;241m=\u001b[39m ViT_HER2ST(\n\u001b[1;32m     15\u001b[0m         train\u001b[38;5;241m=\u001b[39m(mode\u001b[38;5;241m==\u001b[39m\u001b[38;5;124m'\u001b[39m\u001b[38;5;124mtrain\u001b[39m\u001b[38;5;124m'\u001b[39m),fold\u001b[38;5;241m=\u001b[39mfold,flatten\u001b[38;5;241m=\u001b[39mflatten,\n\u001b[1;32m     16\u001b[0m         ori\u001b[38;5;241m=\u001b[39mori,neighs\u001b[38;5;241m=\u001b[39mneighs,adj\u001b[38;5;241m=\u001b[39madj,prune\u001b[38;5;241m=\u001b[39mprune,r\u001b[38;5;241m=\u001b[39mr\n\u001b[1;32m     17\u001b[0m     )\n\u001b[1;32m     18\u001b[0m \u001b[38;5;28;01melif\u001b[39;00m dataset\u001b[38;5;241m==\u001b[39m\u001b[38;5;124m'\u001b[39m\u001b[38;5;124mcscc\u001b[39m\u001b[38;5;124m'\u001b[39m:\n\u001b[1;32m     19\u001b[0m     dataset \u001b[38;5;241m=\u001b[39m ViT_SKIN(\n\u001b[1;32m     20\u001b[0m         train\u001b[38;5;241m=\u001b[39m(mode\u001b[38;5;241m==\u001b[39m\u001b[38;5;124m'\u001b[39m\u001b[38;5;124mtrain\u001b[39m\u001b[38;5;124m'\u001b[39m),fold\u001b[38;5;241m=\u001b[39mfold,flatten\u001b[38;5;241m=\u001b[39mflatten,\n\u001b[1;32m     21\u001b[0m         ori\u001b[38;5;241m=\u001b[39mori,neighs\u001b[38;5;241m=\u001b[39mneighs,adj\u001b[38;5;241m=\u001b[39madj,prune\u001b[38;5;241m=\u001b[39mprune,r\u001b[38;5;241m=\u001b[39mr\n\u001b[1;32m     22\u001b[0m     )\n",
      "File \u001b[0;32m~/Desktop/PeterMac/Hist2ST/dataset.py:84\u001b[0m, in \u001b[0;36mViT_HER2ST.__init__\u001b[0;34m(self, train, fold, r, flatten, ori, adj, prune, neighs)\u001b[0m\n\u001b[1;32m     81\u001b[0m             \u001b[38;5;28mself\u001b[39m\u001b[38;5;241m.\u001b[39mlabel[i]\u001b[38;5;241m=\u001b[39mtorch\u001b[38;5;241m.\u001b[39mfull((\u001b[38;5;28mlen\u001b[39m(idx),),\u001b[38;5;241m-\u001b[39m\u001b[38;5;241m1\u001b[39m)\n\u001b[1;32m     82\u001b[0m \u001b[38;5;28mself\u001b[39m\u001b[38;5;241m.\u001b[39mgene_set \u001b[38;5;241m=\u001b[39m \u001b[38;5;28mlist\u001b[39m(gene_list)\n\u001b[1;32m     83\u001b[0m \u001b[38;5;28mself\u001b[39m\u001b[38;5;241m.\u001b[39mexp_dict \u001b[38;5;241m=\u001b[39m {\n\u001b[0;32m---> 84\u001b[0m     i:scp\u001b[38;5;241m.\u001b[39mtransform\u001b[38;5;241m.\u001b[39mlog(scp\u001b[38;5;241m.\u001b[39mnormalize\u001b[38;5;241m.\u001b[39mlibrary_size_normalize(m[\u001b[38;5;28mself\u001b[39m\u001b[38;5;241m.\u001b[39mgene_set]\u001b[38;5;241m.\u001b[39mvalues)) \n\u001b[1;32m     85\u001b[0m     \u001b[38;5;28;01mfor\u001b[39;00m i,m \u001b[38;5;129;01min\u001b[39;00m \u001b[38;5;28mself\u001b[39m\u001b[38;5;241m.\u001b[39mmeta_dict\u001b[38;5;241m.\u001b[39mitems()\n\u001b[1;32m     86\u001b[0m }\n\u001b[1;32m     87\u001b[0m \u001b[38;5;28;01mif\u001b[39;00m \u001b[38;5;28mself\u001b[39m\u001b[38;5;241m.\u001b[39mori:\n\u001b[1;32m     88\u001b[0m     \u001b[38;5;28mself\u001b[39m\u001b[38;5;241m.\u001b[39mori_dict \u001b[38;5;241m=\u001b[39m {i:m[\u001b[38;5;28mself\u001b[39m\u001b[38;5;241m.\u001b[39mgene_set]\u001b[38;5;241m.\u001b[39mvalues \u001b[38;5;28;01mfor\u001b[39;00m i,m \u001b[38;5;129;01min\u001b[39;00m \u001b[38;5;28mself\u001b[39m\u001b[38;5;241m.\u001b[39mmeta_dict\u001b[38;5;241m.\u001b[39mitems()}\n",
      "File \u001b[0;32m/opt/anaconda3/lib/python3.12/site-packages/pandas/core/frame.py:4113\u001b[0m, in \u001b[0;36mDataFrame.__getitem__\u001b[0;34m(self, key)\u001b[0m\n\u001b[1;32m   4111\u001b[0m     \u001b[38;5;28;01mif\u001b[39;00m is_iterator(key):\n\u001b[1;32m   4112\u001b[0m         key \u001b[38;5;241m=\u001b[39m \u001b[38;5;28mlist\u001b[39m(key)\n\u001b[0;32m-> 4113\u001b[0m     indexer \u001b[38;5;241m=\u001b[39m \u001b[38;5;28mself\u001b[39m\u001b[38;5;241m.\u001b[39mcolumns\u001b[38;5;241m.\u001b[39m_get_indexer_strict(key, \u001b[38;5;124m\"\u001b[39m\u001b[38;5;124mcolumns\u001b[39m\u001b[38;5;124m\"\u001b[39m)[\u001b[38;5;241m1\u001b[39m]\n\u001b[1;32m   4115\u001b[0m \u001b[38;5;66;03m# take() does not accept boolean indexers\u001b[39;00m\n\u001b[1;32m   4116\u001b[0m \u001b[38;5;28;01mif\u001b[39;00m \u001b[38;5;28mgetattr\u001b[39m(indexer, \u001b[38;5;124m\"\u001b[39m\u001b[38;5;124mdtype\u001b[39m\u001b[38;5;124m\"\u001b[39m, \u001b[38;5;28;01mNone\u001b[39;00m) \u001b[38;5;241m==\u001b[39m \u001b[38;5;28mbool\u001b[39m:\n",
      "File \u001b[0;32m/opt/anaconda3/lib/python3.12/site-packages/pandas/core/indexes/base.py:6212\u001b[0m, in \u001b[0;36mIndex._get_indexer_strict\u001b[0;34m(self, key, axis_name)\u001b[0m\n\u001b[1;32m   6209\u001b[0m \u001b[38;5;28;01melse\u001b[39;00m:\n\u001b[1;32m   6210\u001b[0m     keyarr, indexer, new_indexer \u001b[38;5;241m=\u001b[39m \u001b[38;5;28mself\u001b[39m\u001b[38;5;241m.\u001b[39m_reindex_non_unique(keyarr)\n\u001b[0;32m-> 6212\u001b[0m \u001b[38;5;28mself\u001b[39m\u001b[38;5;241m.\u001b[39m_raise_if_missing(keyarr, indexer, axis_name)\n\u001b[1;32m   6214\u001b[0m keyarr \u001b[38;5;241m=\u001b[39m \u001b[38;5;28mself\u001b[39m\u001b[38;5;241m.\u001b[39mtake(indexer)\n\u001b[1;32m   6215\u001b[0m \u001b[38;5;28;01mif\u001b[39;00m \u001b[38;5;28misinstance\u001b[39m(key, Index):\n\u001b[1;32m   6216\u001b[0m     \u001b[38;5;66;03m# GH 42790 - Preserve name from an Index\u001b[39;00m\n",
      "File \u001b[0;32m/opt/anaconda3/lib/python3.12/site-packages/pandas/core/indexes/base.py:6264\u001b[0m, in \u001b[0;36mIndex._raise_if_missing\u001b[0;34m(self, key, indexer, axis_name)\u001b[0m\n\u001b[1;32m   6261\u001b[0m     \u001b[38;5;28;01mraise\u001b[39;00m \u001b[38;5;167;01mKeyError\u001b[39;00m(\u001b[38;5;124mf\u001b[39m\u001b[38;5;124m\"\u001b[39m\u001b[38;5;124mNone of [\u001b[39m\u001b[38;5;132;01m{\u001b[39;00mkey\u001b[38;5;132;01m}\u001b[39;00m\u001b[38;5;124m] are in the [\u001b[39m\u001b[38;5;132;01m{\u001b[39;00maxis_name\u001b[38;5;132;01m}\u001b[39;00m\u001b[38;5;124m]\u001b[39m\u001b[38;5;124m\"\u001b[39m)\n\u001b[1;32m   6263\u001b[0m not_found \u001b[38;5;241m=\u001b[39m \u001b[38;5;28mlist\u001b[39m(ensure_index(key)[missing_mask\u001b[38;5;241m.\u001b[39mnonzero()[\u001b[38;5;241m0\u001b[39m]]\u001b[38;5;241m.\u001b[39munique())\n\u001b[0;32m-> 6264\u001b[0m \u001b[38;5;28;01mraise\u001b[39;00m \u001b[38;5;167;01mKeyError\u001b[39;00m(\u001b[38;5;124mf\u001b[39m\u001b[38;5;124m\"\u001b[39m\u001b[38;5;132;01m{\u001b[39;00mnot_found\u001b[38;5;132;01m}\u001b[39;00m\u001b[38;5;124m not in index\u001b[39m\u001b[38;5;124m\"\u001b[39m)\n",
      "\u001b[0;31mKeyError\u001b[0m: \"['PRXL2B', 'SLC66A1', 'MICOS10', 'P3R3URF', 'TMEM275', 'CZIB', 'CCN1', 'DIPK1A', 'TLCD4', 'TAFA3', 'AL162596.1', 'EEF1AKNMT', 'NIBAN1', 'RO60', 'PACC1', 'SLC66A3', 'LRATD1', 'FAM166C', 'PCARE', 'ECRG4', 'SEPTIN10', 'MTLN', 'ITPRID2', 'FLACC1', 'SPEGNB', 'MAB21L4', 'SEPTIN2', 'FAM240C', 'GASK1A', 'PRSS45P', 'TASOR', 'TAFA1', 'TAFA4', 'TEX55', 'SLC49A4', 'PRR20G', 'DIPK2A', 'STRIT1', 'SLC66A1L', 'AC072022.2', 'PLAAT1', 'NCBP2AS2', 'TMEM271', 'SEPTIN11', 'GASK1B', 'ATPSCKMT', 'AC106774.4', 'TAF11L4', 'TAF11L6', 'TAF11L8', 'TAF11L11', 'TAF11L12', 'TAF11L13', 'TAF11L14', 'CERT1', 'MINAR2', 'SEPTIN8', 'INSYN2B', 'GMCL2', 'AC113348.1', 'SNHG32', 'TSBP1', 'ILRUN', 'BNIP5', 'MMUT', 'AL135905.2', 'DOP1A', 'MTRES1', 'CCN6', 'CCN2', 'RAMACL', 'CRPPA', 'NUP42', 'ITPRID1', 'SEPTIN7', 'YAE1', 'CCDC201', 'CDC14C', 'SEPTIN14', 'DENND11', 'AC073111.4', 'AC134684.8', 'RBIS', 'CCN3', 'LRATD2', 'CCN4', 'DOCK8-AS1', 'PRXL2C', 'SHOC1', 'NIBAN2', 'DIPK1B', 'AKR1C8P', 'TASOR2', 'MIR1915HG', 'AC067752.1', 'PRXL2A', 'DENND10', 'AL603764.2', 'INSYN2A', 'AC132217.2', 'OR51C1P', 'TRIM51GP', 'CBLIF', 'OOSP3', 'OOSP1', 'OOSP4A', 'OOSP4B', 'PLAAT5', 'PLAAT4', 'PLAAT2', 'PLAAT3', 'ZNRD2', 'SMIM38', 'LTO1', 'AP002495.1', 'POGLUT3', 'TLCD5', 'RESF1', 'C12orf81', 'SMIM41', 'TAFA2', 'AL445238.1', 'OBI1', 'POGLUT2', 'PRORP', 'DMAC2L', 'COA8', 'LINC02694', 'CIAO2A', 'INSYN1', 'MINAR1', 'AC015871.1', 'RAMAC', 'ANTKMT', 'CIAO3', 'SEPTIN12', 'LITAFD', 'MRTFB', 'BMERB1', 'TLCD3B', 'SEPTIN1', 'CIAO2B', 'DERPC', 'FCSK', 'MTSS2', 'MEAK7', 'TLCD3A', 'LINC02693', 'CCDC200', 'ANKRD40CL', 'SEPTIN4', 'SEPTIN9', 'HEXD', 'RELCH', 'DIPK1C', 'SLC66A2', 'FAM174C', 'PWWP3A', 'TLE5', 'MICOS13', 'SHFL', 'GET3', 'NIBAN3', 'ZNF875', 'ERFL', 'CCN5', 'DOP1B', 'GET1', 'CFAP410', 'SEPTIN5', 'AP000552.4', 'MRTFA', 'SEPTIN3', 'TAFA5', 'AL121578.2', 'DIPK2B', 'EZHIP', 'PWWP3B', 'RADX', 'SEPTIN6', 'AC236972.4', 'PRKY', 'AC007244.1'] not in index\""
     ]
    }
   ],
   "source": [
    "testset = pk_load(fold,'test',dataset=data,flatten=False,adj=True,ori=True,prune=prune)\n",
    "test_loader = DataLoader(testset, batch_size=1, num_workers=0, shuffle=False)\n",
    "label=testset.label[testset.names[0]]\n",
    "genes=785\n",
    "model=Hist2ST(\n",
    "    depth1=d1, depth2=d2,depth3=d3,n_genes=genes, \n",
    "    kernel_size=k, patch_size=p,\n",
    "    heads=h, channel=c, dropout=0.2,\n",
    "    zinb=0.25, nb=False,\n",
    "    bake=5, lamb=0.5, \n",
    ")\n",
    "model.load_state_dict(torch.load(f'./model/{fold}-Hist2ST.ckpt'))\n",
    "pred, gt = test(model, test_loader,'cuda')"
   ]
  },
  {
   "cell_type": "code",
   "execution_count": null,
   "id": "4266cce3-6bc7-4f5b-81d5-d03d3ae089c4",
   "metadata": {
    "pycharm": {
     "name": "#%%\n"
    }
   },
   "outputs": [
    {
     "name": "stdout",
     "output_type": "stream",
     "text": [
      "Pearson Correlation: 0.2887870599966082\n",
      "ARI: 0.431\n"
     ]
    }
   ],
   "source": [
    "R=get_R(pred,gt)[0]\n",
    "print('Pearson Correlation:',np.nanmean(R))\n",
    "\n",
    "\n",
    "# clus,ARI=cluster(pred,label)\n",
    "# print('ARI:',ARI)\n"
   ]
  }
 ],
 "metadata": {
  "kernelspec": {
   "display_name": "base",
   "language": "python",
   "name": "python3"
  },
  "language_info": {
   "codemirror_mode": {
    "name": "ipython",
    "version": 3
   },
   "file_extension": ".py",
   "mimetype": "text/x-python",
   "name": "python",
   "nbconvert_exporter": "python",
   "pygments_lexer": "ipython3",
   "version": "3.12.2"
  },
  "pycharm": {
   "stem_cell": {
    "cell_type": "raw",
    "metadata": {
     "collapsed": false
    },
    "source": []
   }
  }
 },
 "nbformat": 4,
 "nbformat_minor": 5
}
